{
 "cells": [
  {
   "cell_type": "markdown",
   "metadata": {},
   "source": [
    "Transform data - Sample"
   ]
  },
  {
   "cell_type": "markdown",
   "metadata": {},
   "source": [
    "Import library"
   ]
  },
  {
   "cell_type": "code",
   "execution_count": 2,
   "metadata": {},
   "outputs": [],
   "source": [
    "import pandas as pd\n",
    "from pathlib import Path\n",
    "import sys\n",
    "import os"
   ]
  },
  {
   "cell_type": "markdown",
   "metadata": {},
   "source": [
    "Load dataset"
   ]
  },
  {
   "cell_type": "code",
   "execution_count": 7,
   "metadata": {},
   "outputs": [],
   "source": [
    "notebook_path = os.getcwd()\n",
    "current_dir = Path(notebook_path)\n",
    "datasets_dir = str(current_dir.parent) + \"/datasets/brazilian-ecommerce\"\n",
    "csv_file = datasets_dir + \"/olist_customers_dataset.csv\"\n",
    "if os.path.isfile(csv_file):\n",
    "    datasets = pd.read_csv(csv_file)\n",
    "    datasets.columns = datasets.columns.str.lower()\n",
    "else:\n",
    "    print(f\"File {csv_file} does not exist.\")"
   ]
  },
  {
   "cell_type": "code",
   "execution_count": 9,
   "metadata": {},
   "outputs": [
    {
     "data": {
      "text/plain": [
       "Index(['customer_id', 'customer_unique_id', 'customer_zip_code_prefix',\n",
       "       'customer_city', 'customer_state'],\n",
       "      dtype='object')"
      ]
     },
     "execution_count": 9,
     "metadata": {},
     "output_type": "execute_result"
    }
   ],
   "source": [
    "datasets.columns"
   ]
  },
  {
   "cell_type": "code",
   "execution_count": 13,
   "metadata": {},
   "outputs": [
    {
     "name": "stdout",
     "output_type": "stream",
     "text": [
      "<class 'pandas.core.frame.DataFrame'>\n",
      "RangeIndex: 99441 entries, 0 to 99440\n",
      "Data columns (total 5 columns):\n",
      " #   Column                    Non-Null Count  Dtype \n",
      "---  ------                    --------------  ----- \n",
      " 0   customer_id               99441 non-null  object\n",
      " 1   customer_unique_id        99441 non-null  object\n",
      " 2   customer_zip_code_prefix  99441 non-null  int64 \n",
      " 3   customer_city             99441 non-null  object\n",
      " 4   customer_state            99441 non-null  object\n",
      "dtypes: int64(1), object(4)\n",
      "memory usage: 3.8+ MB\n"
     ]
    }
   ],
   "source": [
    "datasets.info()"
   ]
  },
  {
   "cell_type": "markdown",
   "metadata": {},
   "source": [
    "1. Làm sạch dữ liệu (Data Cleaning)"
   ]
  },
  {
   "cell_type": "markdown",
   "metadata": {},
   "source": [
    "1.1. Xử lý giá trị bị thiếu (Missing Values)"
   ]
  },
  {
   "cell_type": "code",
   "execution_count": 1,
   "metadata": {},
   "outputs": [],
   "source": [
    "# Loại bỏ hàng/cột chứa nhiều giá trị thiếu\n",
    "# Điền giá trị thiếu bằng mean/median/mode hoặc giá trị dự đoán"
   ]
  },
  {
   "cell_type": "code",
   "execution_count": 8,
   "metadata": {},
   "outputs": [
    {
     "data": {
      "text/plain": [
       "customer_id                 0\n",
       "customer_unique_id          0\n",
       "customer_zip_code_prefix    0\n",
       "customer_city               0\n",
       "customer_state              0\n",
       "dtype: int64"
      ]
     },
     "execution_count": 8,
     "metadata": {},
     "output_type": "execute_result"
    }
   ],
   "source": [
    "datasets.isnull().sum()"
   ]
  },
  {
   "cell_type": "markdown",
   "metadata": {},
   "source": [
    "1.2. Xử lý giá trị trùng lặp (Duplicate Handling)"
   ]
  },
  {
   "cell_type": "code",
   "execution_count": 11,
   "metadata": {},
   "outputs": [
    {
     "data": {
      "text/plain": [
       "np.int64(0)"
      ]
     },
     "execution_count": 11,
     "metadata": {},
     "output_type": "execute_result"
    }
   ],
   "source": [
    "datasets.duplicated(subset=['customer_id']).sum()"
   ]
  },
  {
   "cell_type": "code",
   "execution_count": 12,
   "metadata": {},
   "outputs": [
    {
     "data": {
      "text/plain": [
       "np.int64(3345)"
      ]
     },
     "execution_count": 12,
     "metadata": {},
     "output_type": "execute_result"
    }
   ],
   "source": [
    "datasets.duplicated(subset=['customer_unique_id']).sum()"
   ]
  },
  {
   "cell_type": "markdown",
   "metadata": {},
   "source": [
    "1.3. Chuẩn hóa kiểu dữ liệu (Data Type Conversion)"
   ]
  },
  {
   "cell_type": "code",
   "execution_count": null,
   "metadata": {},
   "outputs": [],
   "source": [
    "# Chuyển đổi string → datetime, float → int, ...\n",
    "# Chuyển đổi kiểu dữ liệu"
   ]
  },
  {
   "cell_type": "markdown",
   "metadata": {},
   "source": [
    "1.4. Xử lý dữ liệu lỗi, không hợp lệ"
   ]
  },
  {
   "cell_type": "code",
   "execution_count": null,
   "metadata": {},
   "outputs": [],
   "source": [
    "# Ví dụ: \"N/A\", \"Unknown\", ký tự đặc biệt,..."
   ]
  },
  {
   "cell_type": "markdown",
   "metadata": {},
   "source": [
    "1.5. Dữ liệu bị mâu thuẫn (conflict data)"
   ]
  },
  {
   "cell_type": "code",
   "execution_count": null,
   "metadata": {},
   "outputs": [],
   "source": [
    "# Khi cùng một record nhưng lại tạo ra hai dòng dữ liệu với hai thuộc tính khác nhau, dữ liệu lúc này đang ở trạng thái bị mâu thuẫn. \n",
    "# Ví dụ, một công ty chỉ có một trụ sở nhưng trong database lại có hai địa chỉ khác nhau, điều này có thể gây khó khăn cho shipper"
   ]
  },
  {
   "cell_type": "markdown",
   "metadata": {},
   "source": [
    "1.6. Dữ liệu không đầy đủ (incomplete data)"
   ]
  },
  {
   "cell_type": "code",
   "execution_count": null,
   "metadata": {},
   "outputs": [],
   "source": [
    "#  Dữ liệu bị thiếu một số thuộc tính. Ví dụ, bảng lương của nhân viên không có dữ liệu về số an sinh xã hội cá nhân."
   ]
  },
  {
   "cell_type": "markdown",
   "metadata": {},
   "source": [
    "1.7. Dữ liệu không hợp lệ (invalid data)"
   ]
  },
  {
   "cell_type": "code",
   "execution_count": null,
   "metadata": {},
   "outputs": [],
   "source": [
    "#  Một thuộc tính dữ liệu không phù hợp với các tiêu chuẩn dữ liệu đã đặt ra. Ví dụ: số điện thoại được lưu với 9 chữ số thay vì 10 chữ số."
   ]
  },
  {
   "cell_type": "markdown",
   "metadata": {},
   "source": [
    "2. Xử lý Outliers"
   ]
  },
  {
   "cell_type": "code",
   "execution_count": null,
   "metadata": {},
   "outputs": [],
   "source": [
    "# ✔ Phát hiện Outlier bằng IQR (Interquartile Range), Z-score, hoặc Boxplot\n",
    "# ✔ Xử lý Outlier bằng:\n",
    "\n",
    "# Cắt ngưỡng (Capping): Giới hạn giá trị max/min\n",
    "\n",
    "# Thay thế (Imputation): Dùng median hoặc mean\n",
    "\n",
    "# Loại bỏ (Filtering): Xóa các giá trị quá xa"
   ]
  },
  {
   "cell_type": "markdown",
   "metadata": {},
   "source": [
    "3. Chuẩn hóa dữ liệu (Normalization & Standardization)\n"
   ]
  },
  {
   "cell_type": "code",
   "execution_count": null,
   "metadata": {},
   "outputs": [],
   "source": [
    "# ✔ Chuẩn hóa (Normalization) để dữ liệu nằm trong khoảng [0,1]\n",
    "# ✔ Tiêu chuẩn hóa (Standardization): Đưa về phân phối chuẩn (mean=0, std=1)"
   ]
  },
  {
   "cell_type": "markdown",
   "metadata": {},
   "source": [
    "4. Mã hóa dữ liệu (Encoding)"
   ]
  },
  {
   "cell_type": "code",
   "execution_count": null,
   "metadata": {},
   "outputs": [],
   "source": [
    "# ✔ Label Encoding – Biến đổi giá trị categorical thành số nguyên\n",
    "# ✔ One-Hot Encoding – Chuyển categorical thành biến nhị phân\n",
    "# ✔ Ordinal Encoding – Mã hóa thứ tự (Low < Medium < High)"
   ]
  },
  {
   "cell_type": "markdown",
   "metadata": {},
   "source": [
    "5. Tổng hợp & Gom nhóm dữ liệu (Aggregation & Grouping)"
   ]
  },
  {
   "cell_type": "code",
   "execution_count": null,
   "metadata": {},
   "outputs": [],
   "source": [
    "# ✔ Group By – Tổng hợp dữ liệu theo từng nhóm\n",
    "# ✔ Pivot Tables – Chuyển dữ liệu hàng → cột\n",
    "# ✔ Window Functions – Tính toán động trên từng nhóm dữ liệu"
   ]
  },
  {
   "cell_type": "markdown",
   "metadata": {},
   "source": [
    "6. Tích hợp dữ liệu (Data Integration)"
   ]
  },
  {
   "cell_type": "code",
   "execution_count": null,
   "metadata": {},
   "outputs": [],
   "source": [
    "# ✔ Join/Merge từ nhiều bảng (INNER JOIN, LEFT JOIN,...)\n",
    "# ✔ Mapping dữ liệu từ nhiều nguồn khác nhau (CSV, SQL, NoSQL, APIs,...)\n",
    "\n",
    "# 📌 Ứng dụng: Tích hợp dữ liệu từ nhiều hệ thống để tạo Data Warehouse"
   ]
  },
  {
   "cell_type": "markdown",
   "metadata": {},
   "source": [
    "7. Tạo biến mới (Feature Engineering)"
   ]
  },
  {
   "cell_type": "code",
   "execution_count": null,
   "metadata": {},
   "outputs": [],
   "source": [
    "# ✔ Tính toán cột mới từ dữ liệu hiện có (ví dụ: total_price = quantity * unit_price)\n",
    "# ✔ Xử lý dữ liệu thời gian (Datetime Features)\n",
    "# ✔ Tách/ghép cột dữ liệu (Text Processing, Feature Extraction)\n",
    "\n",
    "# 📌 Ứng dụng: Cải thiện hiệu suất mô hình dự đoán"
   ]
  },
  {
   "cell_type": "markdown",
   "metadata": {},
   "source": [
    "8. Định dạng dữ liệu (Data Formatting)"
   ]
  },
  {
   "cell_type": "code",
   "execution_count": null,
   "metadata": {},
   "outputs": [],
   "source": [
    "# ✔ Chuyển đổi định dạng thời gian (YYYY-MM-DD → DD/MM/YYYY)\n",
    "# ✔ Chuẩn hóa số thập phân (2 chữ số sau dấu phẩy)\n",
    "# ✔ Loại bỏ khoảng trắng, ký tự đặc biệt trong text\n",
    "\n",
    "# 📌 Ứng dụng: Đảm bảo dữ liệu nhất quán khi nhập vào Data Warehouse"
   ]
  }
 ],
 "metadata": {
  "kernelspec": {
   "display_name": ".venv",
   "language": "python",
   "name": "python3"
  },
  "language_info": {
   "codemirror_mode": {
    "name": "ipython",
    "version": 3
   },
   "file_extension": ".py",
   "mimetype": "text/x-python",
   "name": "python",
   "nbconvert_exporter": "python",
   "pygments_lexer": "ipython3",
   "version": "3.11.4"
  }
 },
 "nbformat": 4,
 "nbformat_minor": 2
}
