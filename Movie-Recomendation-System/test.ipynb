{
 "cells": [
  {
   "cell_type": "code",
   "execution_count": 1,
   "metadata": {},
   "outputs": [],
   "source": [
    "import scrapy\n",
    "from scrapy.crawler import CrawlerProcess\n",
    "import pandas as pd\n"
   ]
  },
  {
   "cell_type": "code",
   "execution_count": 2,
   "metadata": {},
   "outputs": [],
   "source": [
    "IMDB_URL='https://www.imdb.com/calendar/?ref_=nv_mv_cal'\n"
   ]
  },
  {
   "cell_type": "code",
   "execution_count": 2,
   "metadata": {},
   "outputs": [],
   "source": [
    "class IMDBUpcomingMoviesSpider(scrapy.Spider):\n",
    "    name = \"imdb_upcoming_movies\"\n",
    "    start_urls = [\"https://m.imdb.com/calendar/?ref_=nv_mv_cal\"]\n",
    "\n",
    "    def parse(self, response):\n",
    "        movies = []\n",
    "        print(response)\n",
    "        k = response.css(\"a.ipc-metadata-list-summary-item__t\").get()\n",
    "        print(k)\n",
    "\n",
    "\n",
    "        \n"
   ]
  },
  {
   "cell_type": "code",
   "execution_count": 3,
   "metadata": {},
   "outputs": [
    {
     "name": "stdout",
     "output_type": "stream",
     "text": [
      "<200 https://m.imdb.com/calendar/?ref_=nv_mv_cal>\n",
      "<a class=\"ipc-metadata-list-summary-item__t\" tabindex=\"0\" aria-disabled=\"false\" href=\"/title/tt28443655/?ref_=rlm\">Death of a Unicorn (2025)</a>\n"
     ]
    }
   ],
   "source": [
    "process = CrawlerProcess({\n",
    "    'USER_AGENT': 'Mozilla/4.0 (compatible; MSIE 7.0; Windows NT 5.1)',\n",
    "    \"LOG_ENABLED\": False\n",
    "})\n",
    "\n",
    "process.crawl(IMDBUpcomingMoviesSpider)\n",
    "process.start()"
   ]
  },
  {
   "cell_type": "code",
   "execution_count": 4,
   "metadata": {},
   "outputs": [],
   "source": [
    "import json\n",
    "\n",
    "payload = {\n",
    "    \"source\": \"universal\",\n",
    "    \"url\": \"https://www.imdb.com/chart/top/?ref_=nv_mv_250\",\n",
    "    \"parse\": True,\n",
    "    \"parsing_instructions\": {\n",
    "        \"movies\": {\n",
    "            \"_fns\": [\n",
    "                {\n",
    "                    \"_fn\": \"xpath\",\n",
    "                    \"_args\": [\n",
    "                        \"//li[contains(@class,'ipc-metadata-list-summary-item')]\"\n",
    "                    ]\n",
    "                }\n",
    "            ],\n",
    "            \"_items\": {\n",
    "                \"movie_name\": {\n",
    "                    \"_fns\": [\n",
    "                        {\n",
    "                            \"_fn\": \"xpath_one\",\n",
    "                            \"_args\": [\n",
    "                                \".//h3/text()\"\n",
    "                            ]\n",
    "                        }\n",
    "                    ]\n",
    "                },\n",
    "                \"year\":{\n",
    "                    \"_fns\": [\n",
    "                        {\n",
    "                            \"_fn\": \"xpath_one\",\n",
    "                            \"_args\": [\n",
    "                                \".//*[contains(@class,'cli-title-metadata-item')]/text()\"\n",
    "                            ]\n",
    "                        }\n",
    "                    ]\n",
    "                },\n",
    "                \"rating\": {\n",
    "                    \"_fns\": [\n",
    "                        {\n",
    "                            \"_fn\": \"xpath_one\",\n",
    "                            \"_args\": [\n",
    "                                \".//*[contains(@aria-label,'IMDb rating')]/text()\"\n",
    "                            ]\n",
    "                        }\n",
    "                    ]\n",
    "                }\n",
    "            }\n",
    "        }\n",
    "    }\n",
    "}\n",
    "\n",
    "with open(\"top_250_payload.json\", 'w') as f:\n",
    "    json.dump(payload, f, indent=4)"
   ]
  }
 ],
 "metadata": {
  "kernelspec": {
   "display_name": ".venv",
   "language": "python",
   "name": "python3"
  },
  "language_info": {
   "codemirror_mode": {
    "name": "ipython",
    "version": 3
   },
   "file_extension": ".py",
   "mimetype": "text/x-python",
   "name": "python",
   "nbconvert_exporter": "python",
   "pygments_lexer": "ipython3",
   "version": "3.11.4"
  }
 },
 "nbformat": 4,
 "nbformat_minor": 2
}
