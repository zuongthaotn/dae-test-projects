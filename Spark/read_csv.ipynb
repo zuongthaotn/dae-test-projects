{
 "cells": [
  {
   "cell_type": "code",
   "execution_count": 1,
   "metadata": {},
   "outputs": [],
   "source": [
    "import warnings\n",
    "warnings.filterwarnings('ignore')\n",
    "from pyspark.sql import SparkSession"
   ]
  },
  {
   "cell_type": "code",
   "execution_count": 2,
   "metadata": {},
   "outputs": [
    {
     "name": "stderr",
     "output_type": "stream",
     "text": [
      "25/03/26 17:39:40 WARN Utils: Your hostname, Zuong-Thao resolves to a loopback address: 127.0.1.1; using 192.168.9.188 instead (on interface eno1)\n",
      "25/03/26 17:39:40 WARN Utils: Set SPARK_LOCAL_IP if you need to bind to another address\n",
      "Setting default log level to \"WARN\".\n",
      "To adjust logging level use sc.setLogLevel(newLevel). For SparkR, use setLogLevel(newLevel).\n",
      "25/03/26 17:39:41 WARN NativeCodeLoader: Unable to load native-hadoop library for your platform... using builtin-java classes where applicable\n"
     ]
    }
   ],
   "source": [
    "spark = SparkSession.builder \\\n",
    "    .appName(\"Test01\") \\\n",
    "    .master(\"local[*]\") \\\n",
    "    .getOrCreate()\n"
   ]
  },
  {
   "cell_type": "code",
   "execution_count": 4,
   "metadata": {},
   "outputs": [],
   "source": [
    "# test = SparkSession.builder.appName('Test 02').remote('sc://192.168.9.188:4040').getOrCreate()"
   ]
  },
  {
   "cell_type": "code",
   "execution_count": 3,
   "metadata": {},
   "outputs": [
    {
     "name": "stdout",
     "output_type": "stream",
     "text": [
      "🔥 Spark Session Created Successfully!\n",
      "Spark Version: 3.5.5\n"
     ]
    }
   ],
   "source": [
    "# Print Spark Session Info\n",
    "print(\"🔥 Spark Session Created Successfully!\")\n",
    "print(\"Spark Version:\", spark.version)\n"
   ]
  },
  {
   "cell_type": "code",
   "execution_count": null,
   "metadata": {},
   "outputs": [],
   "source": [
    "# df = spark.createDataFrame([ \\\n",
    "#     ['red', 'banana', 1, 10], ['blue', 'banana', 2, 20], ['red', 'carrot', 3, 30],\\\n",
    "#     ['blue', 'grape', 4, 40], ['red', 'carrot', 5, 50], ['black', 'carrot', 6, 60],\\\n",
    "#     ['red', 'banana', 7, 70], ['red', 'grape', 8, 80]], schema=['color', 'fruit', 'v1', 'v2'])"
   ]
  },
  {
   "cell_type": "code",
   "execution_count": 4,
   "metadata": {},
   "outputs": [],
   "source": [
    "data  = spark.read.csv('./orders.csv', sep= ',', header = True)\n"
   ]
  },
  {
   "cell_type": "code",
   "execution_count": 5,
   "metadata": {},
   "outputs": [
    {
     "data": {
      "text/plain": [
       "[Row(order_id='e481f51cbdc54678b7cc49136f2d6af7', customer_id='9ef432eb6251297304e76186b10a928d', order_status='delivered', order_purchase_timestamp='2017-10-02 10:56:33', order_approved_at='2017-10-02 11:07:15', order_delivered_carrier_date='2017-10-04 19:55:00', order_delivered_customer_date='2017-10-10 21:25:13', order_estimated_delivery_date='2017-10-18 00:00:00'),\n",
       " Row(order_id='53cdb2fc8bc7dce0b6741e2150273451', customer_id='b0830fb4747a6c6d20dea0b8c802d7ef', order_status='delivered', order_purchase_timestamp='2018-07-24 20:41:37', order_approved_at='2018-07-26 03:24:27', order_delivered_carrier_date='2018-07-26 14:31:00', order_delivered_customer_date='2018-08-07 15:27:45', order_estimated_delivery_date='2018-08-13 00:00:00'),\n",
       " Row(order_id='47770eb9100c2d0c44946d9cf07ec65d', customer_id='41ce2a54c0b03bf3443c3d931a367089', order_status='delivered', order_purchase_timestamp='2018-08-08 08:38:49', order_approved_at='2018-08-08 08:55:23', order_delivered_carrier_date='2018-08-08 13:50:00', order_delivered_customer_date='2018-08-17 18:06:29', order_estimated_delivery_date='2018-09-04 00:00:00')]"
      ]
     },
     "execution_count": 5,
     "metadata": {},
     "output_type": "execute_result"
    }
   ],
   "source": [
    "data.head(3)"
   ]
  },
  {
   "cell_type": "code",
   "execution_count": 6,
   "metadata": {},
   "outputs": [
    {
     "name": "stdout",
     "output_type": "stream",
     "text": [
      "root\n",
      " |-- order_id: string (nullable = true)\n",
      " |-- customer_id: string (nullable = true)\n",
      " |-- order_status: string (nullable = true)\n",
      " |-- order_purchase_timestamp: string (nullable = true)\n",
      " |-- order_approved_at: string (nullable = true)\n",
      " |-- order_delivered_carrier_date: string (nullable = true)\n",
      " |-- order_delivered_customer_date: string (nullable = true)\n",
      " |-- order_estimated_delivery_date: string (nullable = true)\n",
      "\n"
     ]
    }
   ],
   "source": [
    "data.printSchema()"
   ]
  },
  {
   "cell_type": "code",
   "execution_count": null,
   "metadata": {},
   "outputs": [],
   "source": [
    "# Xử lý missing data"
   ]
  },
  {
   "cell_type": "code",
   "execution_count": 10,
   "metadata": {},
   "outputs": [
    {
     "ename": "TypeError",
     "evalue": "DataFrame.fillna() missing 1 required positional argument: 'value'",
     "output_type": "error",
     "traceback": [
      "\u001b[31m---------------------------------------------------------------------------\u001b[39m",
      "\u001b[31mTypeError\u001b[39m                                 Traceback (most recent call last)",
      "\u001b[36mCell\u001b[39m\u001b[36m \u001b[39m\u001b[32mIn[10]\u001b[39m\u001b[32m, line 1\u001b[39m\n\u001b[32m----> \u001b[39m\u001b[32m1\u001b[39m \u001b[43mdata\u001b[49m\u001b[43m.\u001b[49m\u001b[43mfillna\u001b[49m\u001b[43m(\u001b[49m\u001b[43m)\u001b[49m.sum()\n",
      "\u001b[31mTypeError\u001b[39m: DataFrame.fillna() missing 1 required positional argument: 'value'"
     ]
    }
   ],
   "source": [
    "data.fillna().sum()"
   ]
  },
  {
   "cell_type": "code",
   "execution_count": null,
   "metadata": {},
   "outputs": [],
   "source": []
  }
 ],
 "metadata": {
  "kernelspec": {
   "display_name": ".venv",
   "language": "python",
   "name": "python3"
  },
  "language_info": {
   "codemirror_mode": {
    "name": "ipython",
    "version": 3
   },
   "file_extension": ".py",
   "mimetype": "text/x-python",
   "name": "python",
   "nbconvert_exporter": "python",
   "pygments_lexer": "ipython3",
   "version": "3.11.4"
  }
 },
 "nbformat": 4,
 "nbformat_minor": 2
}
